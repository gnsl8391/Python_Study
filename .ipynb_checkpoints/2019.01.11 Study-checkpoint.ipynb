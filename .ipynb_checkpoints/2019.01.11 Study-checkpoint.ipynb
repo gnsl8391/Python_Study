{
 "cells": [
  {
   "cell_type": "markdown",
   "metadata": {},
   "source": [
    "### [Problem] Calc 계산기\n",
    "클래스 Clac는 method로 두 수를 더해주는 add, 두 수를 빼주는 sub, 두 수를 곱해주는 mul, 두 수를 나눠주는 div를 가지고 있습니다.\n",
    "method는 값을 반환합니다.\n",
    "기본값이 0일 때 div를 실행하면 error가 발생하므로 \"0은 분모로 올 수 없습니다\"를 print해주세요.\n",
    "또한, div에서 값이 반환되어지는 값이 정수(interger)일 때는 int 타입으로 반환해주세요.\n",
    "\n",
    "    편의상 예시는 표시하지 않고,\n",
    "    결과는 앞에 >>> 표시로 하겠습니다.\n",
    "    \n",
    "    clac.add(7)\n",
    "    >>> 7\n",
    "    clac.add(2)\n",
    "    >>> 9\n",
    "    clac.sub(5)\n",
    "    >>> 4\n",
    "    clac.mul(3)\n",
    "    >>> 12\n",
    "    clac.div(6)\n",
    "    >>> 2\n",
    "    clac.div(4)\n",
    "    >>> 0.5"
   ]
  },
  {
   "cell_type": "code",
   "execution_count": 28,
   "metadata": {},
   "outputs": [],
   "source": [
    "class Calc:\n",
    "    \n",
    "    def __init__(self):\n",
    "        self.result = 0\n",
    "    \n",
    "    def add(self, num):\n",
    "        self.result += num\n",
    "        return self.result\n",
    "        \n",
    "    def sub(self, num):\n",
    "        self.result -= num\n",
    "        return self.result\n",
    "        \n",
    "    def mul(self, num):\n",
    "        self.result *= num\n",
    "        return self.result\n",
    "        \n",
    "    def div(self, num):\n",
    "        try:\n",
    "            self.result /= num\n",
    "            if self.result.is_integer() == True:\n",
    "                return int(self.result)\n",
    "        except ZeroDivisionError:\n",
    "            self.result = \"0은 분모로 올 수 없습니다.\"\n",
    "        return self.result"
   ]
  },
  {
   "cell_type": "code",
   "execution_count": 29,
   "metadata": {},
   "outputs": [
    {
     "name": "stdout",
     "output_type": "stream",
     "text": [
      "7\n",
      "9\n",
      "4\n",
      "12\n",
      "2\n",
      "0.5\n"
     ]
    }
   ],
   "source": [
    "calc = Calc()\n",
    "print(calc.add(7))\n",
    "print(calc.add(2))\n",
    "print(calc.sub(5))\n",
    "print(calc.mul(3))\n",
    "print(calc.div(6))\n",
    "print(calc.div(4))"
   ]
  },
  {
   "cell_type": "code",
   "execution_count": 30,
   "metadata": {},
   "outputs": [
    {
     "name": "stdout",
     "output_type": "stream",
     "text": [
      "0은 분모로 올 수 없습니다.\n"
     ]
    }
   ],
   "source": [
    "calc = Calc()\n",
    "print(calc.div(0))"
   ]
  }
 ],
 "metadata": {
  "kernelspec": {
   "display_name": "Python 3",
   "language": "python",
   "name": "python3"
  },
  "language_info": {
   "codemirror_mode": {
    "name": "ipython",
    "version": 3
   },
   "file_extension": ".py",
   "mimetype": "text/x-python",
   "name": "python",
   "nbconvert_exporter": "python",
   "pygments_lexer": "ipython3",
   "version": "3.6.7"
  }
 },
 "nbformat": 4,
 "nbformat_minor": 2
}
