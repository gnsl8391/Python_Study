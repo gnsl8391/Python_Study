{
 "cells": [
  {
   "cell_type": "markdown",
   "metadata": {},
   "source": [
    "### [Problem1]\n",
    "print를 한줄에 2개 이상 써서 사용해주세요.\n",
    "\n",
    "    예제)\n",
    "        print(\"안녕, \") print(\"Jupyter\")"
   ]
  },
  {
   "cell_type": "code",
   "execution_count": 3,
   "metadata": {},
   "outputs": [
    {
     "name": "stdout",
     "output_type": "stream",
     "text": [
      "안녕, \n",
      "Jupyter\n"
     ]
    }
   ],
   "source": [
    "print(\"안녕, \"); print(\"Jupyter\")"
   ]
  },
  {
   "cell_type": "markdown",
   "metadata": {},
   "source": [
    "### [Problem2]\n",
    "print를 하나로 아래 문장을 써주세요.\n",
    "\n",
    "    예제)\n",
    "        안녕하세요\n",
    "        저는 파이썬을\n",
    "            배우고 있는\n",
    "                사람입니다."
   ]
  },
  {
   "cell_type": "code",
   "execution_count": 4,
   "metadata": {},
   "outputs": [
    {
     "name": "stdout",
     "output_type": "stream",
     "text": [
      "\n",
      "안녕하세요\n",
      "    저는 파이썬을\n",
      "        배우고 있는\n",
      "            사람입니다.\n",
      "\n"
     ]
    }
   ],
   "source": [
    "print(\"\"\"\n",
    "안녕하세요\n",
    "    저는 파이썬을\n",
    "        배우고 있는\n",
    "            사람입니다.\n",
    "\"\"\")"
   ]
  },
  {
   "cell_type": "markdown",
   "metadata": {},
   "source": [
    "### [Problem3]\n",
    "복소수 complex_data를 켤레복소수로 만드는 함수 complex_conjugate를 만들어주세요.\n",
    "\n",
    "    예제)\n",
    "        복소수의 표기는 본래 i이므로 i로 하도록 하겠습니다.\n",
    "        프로그래밍을 하는데에는 j로 사용하셔야 합니다.\n",
    "        complex_conjugate(5i) => -5i\n",
    "        complex_conjugate(3+7i) => (3-7i)"
   ]
  },
  {
   "cell_type": "code",
   "execution_count": 16,
   "metadata": {},
   "outputs": [],
   "source": [
    "def complex_conjugate(number):\n",
    "    n_real = number.real\n",
    "    n_imag = number.imag\n",
    "    result = complex(n_real,-n_imag)\n",
    "    return result"
   ]
  },
  {
   "cell_type": "code",
   "execution_count": 17,
   "metadata": {},
   "outputs": [
    {
     "name": "stdout",
     "output_type": "stream",
     "text": [
      "(4-3j)\n"
     ]
    }
   ],
   "source": [
    "print(complex_conjugate(4+3j))"
   ]
  },
  {
   "cell_type": "markdown",
   "metadata": {},
   "source": [
    "### [Problem4]\n",
    "10진수를 8진수로 변경하는 함수를 만들어주세요.\n",
    "\n",
    "    예제)\n",
    "        10 -> 0o12\n",
    "        7 -> 0o7\n",
    "        124 -> 0o174"
   ]
  },
  {
   "cell_type": "code",
   "execution_count": 26,
   "metadata": {},
   "outputs": [],
   "source": [
    "def octet(num):\n",
    "    result = \"\"\n",
    "    while num >= 8:\n",
    "        q, r = divmod(num, 8)\n",
    "        result += str(r)\n",
    "        num //= 8\n",
    "    result += str(num)\n",
    "    return \"0o\" + result[::-1]"
   ]
  },
  {
   "cell_type": "code",
   "execution_count": 27,
   "metadata": {},
   "outputs": [
    {
     "name": "stdout",
     "output_type": "stream",
     "text": [
      "0o77\n"
     ]
    }
   ],
   "source": [
    "print(octet(63))"
   ]
  },
  {
   "cell_type": "markdown",
   "metadata": {},
   "source": [
    "### [Problem5]\n",
    "리스트list_data에 중간값을 리턴하는 center_value 함수를 만들어주세요.\n",
    "\n",
    "    예제)\n",
    "        list_data = [1,2,3,4,5]\n",
    "        center_value(list_data) => 3"
   ]
  },
  {
   "cell_type": "code",
   "execution_count": 31,
   "metadata": {},
   "outputs": [],
   "source": [
    "def center_value(list_data):\n",
    "    list_data = sorted(set(list_data))\n",
    "    if len(list_data) % 2 == 0:\n",
    "        result = (list_data[len(list_data) // 2 - 1], list_data[len(list_data) // 2])\n",
    "    else:\n",
    "        result = list_data[len(list_data) // 2]\n",
    "    return result"
   ]
  },
  {
   "cell_type": "code",
   "execution_count": 33,
   "metadata": {},
   "outputs": [
    {
     "name": "stdout",
     "output_type": "stream",
     "text": [
      "7\n"
     ]
    }
   ],
   "source": [
    "print(center_value([1,1,1,1,2,3,2,7,7,8,9,10]))"
   ]
  }
 ],
 "metadata": {
  "kernelspec": {
   "display_name": "Python 3",
   "language": "python",
   "name": "python3"
  },
  "language_info": {
   "codemirror_mode": {
    "name": "ipython",
    "version": 3
   },
   "file_extension": ".py",
   "mimetype": "text/x-python",
   "name": "python",
   "nbconvert_exporter": "python",
   "pygments_lexer": "ipython3",
   "version": "3.6.7"
  }
 },
 "nbformat": 4,
 "nbformat_minor": 2
}
