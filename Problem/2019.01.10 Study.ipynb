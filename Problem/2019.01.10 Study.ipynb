{
 "cells": [
  {
   "cell_type": "markdown",
   "metadata": {},
   "source": [
    "### Problem1\n",
    "- 사원 J씨가 자료를 정리하다가 모든 글자를 소문자로 만들었는데 관리자가 앞글자는 모두 대문자로 만들어 달라고 한다.\n",
    "그리고 모든 자료들을 리스트로 만들어서 오름차순을 진행한다.\n",
    "- J씨를 도와 문제를 해결해주시길 바랍니다.\n",
    "- submit_list에 담아 보여주세요\n",
    "\n",
    "    예시)\n",
    "    str_data = \"james justine martine mary unix linux java cotline tomas script moonjaein\"\n",
    "    submit_list = []\n",
    "\n",
    "    결과)\n",
    "    ['James', 'Justine', 'Martine', 'Mary', 'Unix', 'Linux', 'Java', 'Cotline', 'Tomas', 'Script', 'Moonjaein']"
   ]
  },
  {
   "cell_type": "code",
   "execution_count": 6,
   "metadata": {},
   "outputs": [
    {
     "name": "stdout",
     "output_type": "stream",
     "text": [
      "['James', 'Justine', 'Martine', 'Mary', 'Unix', 'Linux', 'Java', 'Cotline', 'Tomas', 'Script', 'Moonjaein']\n"
     ]
    }
   ],
   "source": [
    "str_data = \"james justine martine mary unix linux java cotline tomas script moonjaein\" \n",
    "submit_list = []\n",
    "\n",
    "data = str_data.title()\n",
    "submit_list = data.split()\n",
    "    \n",
    "print(submit_list)"
   ]
  },
  {
   "cell_type": "markdown",
   "metadata": {},
   "source": [
    "### Problem2\n",
    "- 관리자가 자료를 정리하다가 대소문자를 거꾸로 썼다고 한다.\n",
    "- 당신에게 자료를 올바르게 고쳐달라고 한다.\n",
    "- 대소문자를 바꿔서 출력하여 관리자에게 보여주면 된다.\n",
    "\n",
    "    예시)\n",
    "    data_err = \"jAMES jUSTINE mARTINE mARY uNIX lINUX jAVA cOTLINE tOMAS sCRIPT mOONJAEIN\"\n",
    "\n",
    "    결과)\n",
    "    James Justine Martine Mary Unix Linux Java Cotline Tomas Script Moonjaein"
   ]
  },
  {
   "cell_type": "code",
   "execution_count": 7,
   "metadata": {},
   "outputs": [
    {
     "name": "stdout",
     "output_type": "stream",
     "text": [
      "James Justine Martine Mary Unix Linux Java Cotline Tomas Script Moonjaein\n"
     ]
    }
   ],
   "source": [
    "data_err = \"jAMES jUSTINE mARTINE mARY uNIX lINUX jAVA cOTLINE tOMAS sCRIPT mOONJAEIN\"\n",
    "\n",
    "swap = data_err.swapcase()\n",
    "\n",
    "print(swap)"
   ]
  },
  {
   "cell_type": "markdown",
   "metadata": {},
   "source": [
    "### Problem3\n",
    "- 관리자가 아래의 자료 두개를 하나로 만들어 달라고 한다. 제출할 이름은 submit_result이다.\n",
    "\n",
    "    예시)\n",
    "    data_f1 = {'a':\"apple\", 'b':\"banana\", 'c':'cherry'}\n",
    "    data_f2 = {'o':\"orange\", 'p':\"pineapple\"}\n",
    "\n",
    "    결과)\n",
    "    submit_result = {'a':\"apple\", 'b':\"banana\", 'c':'cherry', 'o':\"orange\", 'p':\"pineapple\"}"
   ]
  },
  {
   "cell_type": "code",
   "execution_count": 10,
   "metadata": {},
   "outputs": [
    {
     "name": "stdout",
     "output_type": "stream",
     "text": [
      "{'a': 'apple', 'b': 'banana', 'c': 'cherry', 'o': 'orange', 'p': 'pineapple'}\n"
     ]
    }
   ],
   "source": [
    "data_f1 = {'a':\"apple\", 'b':\"banana\", 'c':'cherry'}\n",
    "data_f2 = {'o':\"orange\", 'p':\"pineapple\"}\n",
    "\n",
    "data_f1.update(data_f2)\n",
    "submit_result = data_f1\n",
    "print(submit_result)"
   ]
  }
 ],
 "metadata": {
  "kernelspec": {
   "display_name": "Python 3",
   "language": "python",
   "name": "python3"
  },
  "language_info": {
   "codemirror_mode": {
    "name": "ipython",
    "version": 3
   },
   "file_extension": ".py",
   "mimetype": "text/x-python",
   "name": "python",
   "nbconvert_exporter": "python",
   "pygments_lexer": "ipython3",
   "version": "3.6.7"
  }
 },
 "nbformat": 4,
 "nbformat_minor": 2
}
